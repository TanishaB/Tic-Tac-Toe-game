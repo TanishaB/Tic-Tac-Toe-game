{
 "cells": [
  {
   "cell_type": "code",
   "execution_count": 1,
   "metadata": {},
   "outputs": [],
   "source": []
  },
  {
   "cell_type": "code",
   "execution_count": 2,
   "metadata": {},
   "outputs": [],
   "source": [
    "from IPython.display import clear_output"
   ]
  },
  {
   "cell_type": "markdown",
   "metadata": {},
   "source": [
    "## Board display"
   ]
  },
  {
   "cell_type": "code",
   "execution_count": 3,
   "metadata": {},
   "outputs": [],
   "source": [
    "def display_board(board): # A list with inputs will be passed\n",
    "    clear_output() \n",
    "    \n",
    "    print(\" {} | {} | {}\".format(board[7],board[8],board[9]))\n",
    "    print('-----------')\n",
    "    print(\" {} | {} | {}\".format(board[4],board[5],board[6]))\n",
    "    print('-----------')\n",
    "    print(\" {} | {} | {}\".format(board[1],board[2],board[3]))\n"
   ]
  },
  {
   "cell_type": "markdown",
   "metadata": {},
   "source": [
    "## Asking player to chose between X or O"
   ]
  },
  {
   "cell_type": "code",
   "execution_count": 4,
   "metadata": {},
   "outputs": [],
   "source": [
    "def player_input():\n",
    "    mark=\"\"\n",
    "    while mark not in ['X','O']:\n",
    "        mark = input(\"Player 1: Do you want X or O?\").upper()\n",
    "    if mark == 'X':\n",
    "        return ('X','O') # Player 1 is X and Player 2 is O\n",
    "    else:\n",
    "        return ('O','X') # Player 2 is X and Player 1 is O"
   ]
  },
  {
   "cell_type": "markdown",
   "metadata": {},
   "source": [
    "## Marking on board"
   ]
  },
  {
   "cell_type": "code",
   "execution_count": 5,
   "metadata": {},
   "outputs": [],
   "source": [
    "def marking(board, mark, position):\n",
    "    board[position] = mark"
   ]
  },
  {
   "cell_type": "markdown",
   "metadata": {},
   "source": [
    "## Win check"
   ]
  },
  {
   "cell_type": "code",
   "execution_count": 6,
   "metadata": {},
   "outputs": [],
   "source": [
    "def win_check(board, mark):\n",
    "    return((board[7] == mark and board[8] == mark and board[9] == mark) or \n",
    "          (board[4] == mark and board[5] == mark and board[6] == mark) or\n",
    "          (board[1] == mark and board[2] == mark and board[3] == mark) or\n",
    "          (board[7] == mark and board[4] == mark and board[1] == mark) or\n",
    "          (board[8] == mark and board[5] == mark and board[2] == mark) or\n",
    "          (board[9] == mark and board[6] == mark and board[3] == mark) or\n",
    "          (board[7] == mark and board[5] == mark and board[3] == mark) or\n",
    "          (board[9] == mark and board[5] == mark and board[1] == mark))"
   ]
  },
  {
   "cell_type": "markdown",
   "metadata": {},
   "source": [
    "## Randomly select the player to play first "
   ]
  },
  {
   "cell_type": "code",
   "execution_count": 7,
   "metadata": {},
   "outputs": [],
   "source": [
    "import random\n",
    "\n",
    "def choose_first():\n",
    "    if random.randint(1,2) == 1:\n",
    "        return \"Player 1\"\n",
    "    else:\n",
    "        return \"Player 2\""
   ]
  },
  {
   "cell_type": "markdown",
   "metadata": {},
   "source": [
    "## Check for free space"
   ]
  },
  {
   "cell_type": "code",
   "execution_count": 8,
   "metadata": {},
   "outputs": [],
   "source": [
    "def free_space(board,position):\n",
    "    return board[position] == \" \" # Returns if space available"
   ]
  },
  {
   "cell_type": "markdown",
   "metadata": {},
   "source": [
    "## Check if board is full"
   ]
  },
  {
   "cell_type": "code",
   "execution_count": 9,
   "metadata": {},
   "outputs": [],
   "source": [
    "def full_board(board):\n",
    "    for i in range(1,10): #position is from 1-9\n",
    "        if free_space(board,i): # Function call to free_space\n",
    "            return False # False for space available\n",
    "    return True # True for board full"
   ]
  },
  {
   "cell_type": "markdown",
   "metadata": {},
   "source": [
    "## Player choice "
   ]
  },
  {
   "cell_type": "code",
   "execution_count": 10,
   "metadata": {},
   "outputs": [],
   "source": [
    "def player_choice(board):\n",
    "    position = 0\n",
    "    while position not in [1,2,3,4,5,6,7,8,9] or not free_space(board,position):\n",
    "        position = int(input(\"Choose a position (1-9)\"))\n",
    "    return position\n",
    "        "
   ]
  },
  {
   "cell_type": "markdown",
   "metadata": {},
   "source": [
    "## Replay"
   ]
  },
  {
   "cell_type": "code",
   "execution_count": 11,
   "metadata": {},
   "outputs": [],
   "source": [
    "def replay():\n",
    "    return input(\"Do you want to play again? (Enter yes or no)\").lower()"
   ]
  },
  {
   "cell_type": "markdown",
   "metadata": {},
   "source": [
    "## Game "
   ]
  },
  {
   "cell_type": "code",
   "execution_count": 12,
   "metadata": {},
   "outputs": [
    {
     "name": "stdout",
     "output_type": "stream",
     "text": [
      " O |   |  \n",
      "-----------\n",
      " O | O | X\n",
      "-----------\n",
      " O | X | X\n",
      "Congratulations!! Player 1 won the game.\n",
      "Do you want to play again? (Enter yes or no)no\n",
      "Exit\n"
     ]
    }
   ],
   "source": [
    "print(\"TIC TAC TOE\")\n",
    "\n",
    "while True:\n",
    "    board = [\" \"] * 10 #clear the board\n",
    "    player1_mark, player2_mark = player_input() # X or O\n",
    "    turn = choose_first()\n",
    "    print(\"{} will go first\".format(turn))\n",
    "    \n",
    "    play = input(\"Are you ready to play? (Enter yes or no)\").lower()\n",
    "    \n",
    "    if play == \"yes\":\n",
    "        game_on = True\n",
    "    else:\n",
    "        game_on = False\n",
    "    \n",
    "    while game_on:\n",
    "        if turn == \"Player 1\":\n",
    "            display_board(board)\n",
    "            print(\"Player 1 turn\")\n",
    "            position = player_choice(board)\n",
    "            marking(board, player1_mark, position)\n",
    "            \n",
    "            if win_check(board, player1_mark):\n",
    "                display_board(board)\n",
    "                print(\"Congratulations!! Player 1 won the game.\")\n",
    "                game_on = False\n",
    "            else:\n",
    "                if full_board(board):\n",
    "                    display_board(board)\n",
    "                    print(\"The game is a draw!\")\n",
    "                    break\n",
    "                else:\n",
    "                    turn = \"Player 2\"\n",
    "                    \n",
    "        else:\n",
    "            display_board(board)\n",
    "            print(\"Player 2 turn\")\n",
    "            position = player_choice(board)\n",
    "            marking(board, player2_mark, position)\n",
    "            \n",
    "            if win_check(board, player2_mark):\n",
    "                display_board(board)\n",
    "                print(\"Congratulations!! Player 2 won the game.\")\n",
    "                game_on = False\n",
    "            else:\n",
    "                if full_board(board) == True:\n",
    "                    display_board(board)\n",
    "                    print(\"The game is a draw!\")\n",
    "                    break\n",
    "                else:\n",
    "                    turn = \"Player 1\"\n",
    "                    \n",
    "    if replay() == \"no\":\n",
    "        print(\"Exit\")\n",
    "        break\n",
    "    "
   ]
  },
  {
   "cell_type": "code",
   "execution_count": null,
   "metadata": {},
   "outputs": [],
   "source": []
  }
 ],
 "metadata": {
  "kernelspec": {
   "display_name": "Python 3",
   "language": "python",
   "name": "python3"
  },
  "language_info": {
   "codemirror_mode": {
    "name": "ipython",
    "version": 3
   },
   "file_extension": ".py",
   "mimetype": "text/x-python",
   "name": "python",
   "nbconvert_exporter": "python",
   "pygments_lexer": "ipython3",
   "version": "3.7.6"
  }
 },
 "nbformat": 4,
 "nbformat_minor": 4
}
